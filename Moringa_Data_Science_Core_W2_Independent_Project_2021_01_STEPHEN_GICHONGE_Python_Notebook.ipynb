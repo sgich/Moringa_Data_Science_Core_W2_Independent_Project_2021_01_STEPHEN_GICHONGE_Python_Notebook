{
  "nbformat": 4,
  "nbformat_minor": 0,
  "metadata": {
    "colab": {
      "name": "Moringa_Data_Science_Core_W2_Independent_Project_2021_01_STEPHEN_GICHONGE_Python_Notebook",
      "provenance": [],
      "collapsed_sections": [
        "zSGyg6kWsBUl",
        "lQ2G4ZPDVOXE",
        "xrmHVMVsVS--",
        "HPQviDmNtta8",
        "qjFHK1CKty7o",
        "HSsicSdvt4Zs"
      ],
      "toc_visible": true
    },
    "kernelspec": {
      "name": "python3",
      "display_name": "Python 3"
    }
  },
  "cells": [
    {
      "cell_type": "markdown",
      "metadata": {
        "id": "xMxtPsqcTsSH"
      },
      "source": [
        "# Exploratory Data Analysis(Financial Inclusion Dataset)"
      ]
    },
    {
      "cell_type": "markdown",
      "metadata": {
        "id": "kLG2VTrnTvYL"
      },
      "source": [
        "## 1. Defining the Question"
      ]
    },
    {
      "cell_type": "markdown",
      "metadata": {
        "id": "XecOwPNorl2W"
      },
      "source": [
        "### a) Specifying the Data Analytic Question"
      ]
    },
    {
      "cell_type": "markdown",
      "metadata": {
        "id": "9ozBnKfehSAw"
      },
      "source": [
        "> Determine the Relationship(s) between Bank account access to the metadata given(Age especially). Build a model to predict accessibility correctly.\r\n"
      ]
    },
    {
      "cell_type": "markdown",
      "metadata": {
        "id": "J4wfHZwQrs-t"
      },
      "source": [
        "### b) Defining the Metric for Success"
      ]
    },
    {
      "cell_type": "markdown",
      "metadata": {
        "id": "aA7vZNYU--4E"
      },
      "source": [
        ">Based on the given data(factors) being able to predict ownership/access of a bank account by an individual"
      ]
    },
    {
      "cell_type": "markdown",
      "metadata": {
        "id": "a9BPYqunry97"
      },
      "source": [
        "### c) Understanding the context "
      ]
    },
    {
      "cell_type": "markdown",
      "metadata": {
        "id": "ULc4SbsS_VtA"
      },
      "source": [
        "> There's a very low degree of financial inclusion in the region which in turn is considered an indicator of the stunted level of economic and human development evident. Being able to predict bank access/use based on a persons profile will go a long way in helping bridge this gap as it can inform policies and initiatives"
      ]
    },
    {
      "cell_type": "markdown",
      "metadata": {
        "id": "7KMRBJ7zr9HD"
      },
      "source": [
        "### d) Recording the Experimental Design"
      ]
    },
    {
      "cell_type": "markdown",
      "metadata": {
        "id": "O3iVYNPBAp0A"
      },
      "source": [
        ">Define Research Question:\r\n",
        "How does the age of a person relate to bank account access/use?\r\n",
        "\r\n",
        ">>Variables:  \r\n",
        "Independent Variable: Age  \r\n",
        "Dependent Variable: Bank Access\r\n"
      ]
    },
    {
      "cell_type": "markdown",
      "metadata": {
        "id": "oT3VlewKAyk0"
      },
      "source": [
        ">Hypothesis:\r\n",
        ">>Null Hypothesis:\r\n",
        "Bank Access does not correlate with Age\r\n",
        "\r\n",
        ">>Alternate Hypothesis:\r\n",
        "Banks Access is more likely with decrease in Age\r\n",
        "\r\n",
        "\r\n"
      ]
    },
    {
      "cell_type": "markdown",
      "metadata": {
        "id": "MxA3wGDHA1rF"
      },
      "source": [
        ">Experimental treatments:\r\n",
        ">>Independent Variable Variability: To the extent within the given dataset\r\n",
        "\r\n",
        ">>Dependent Variable Treatment: As a Categorical Variable\r\n"
      ]
    },
    {
      "cell_type": "markdown",
      "metadata": {
        "id": "zSGyg6kWsBUl"
      },
      "source": [
        "### e) Data Relevance"
      ]
    },
    {
      "cell_type": "markdown",
      "metadata": {
        "id": "iUNbvIvnT7ep"
      },
      "source": [
        "## 2. Reading the Data"
      ]
    },
    {
      "cell_type": "code",
      "metadata": {
        "id": "kT_D2dMFFitE"
      },
      "source": [
        "#Importing relevant libraries\r\n",
        "import pandas as pd\r\n",
        "import numpy as np\r\n",
        "import matplotlib.pyplot as plt\r\n",
        "import seaborn as sns"
      ],
      "execution_count": 322,
      "outputs": []
    },
    {
      "cell_type": "code",
      "metadata": {
        "id": "XJn2KjW-WMlG"
      },
      "source": [
        "# Loading the Data from the source i.e. csv\n",
        "# ---\n",
        "fin = pd.read_csv('Financial Dataset - 1.csv')\n"
      ],
      "execution_count": 323,
      "outputs": []
    },
    {
      "cell_type": "markdown",
      "metadata": {
        "id": "OI3P3YnHUEBk"
      },
      "source": [
        "## 3. Checking the Data"
      ]
    },
    {
      "cell_type": "code",
      "metadata": {
        "id": "YjSVNwgptHxY",
        "colab": {
          "base_uri": "https://localhost:8080/"
        },
        "outputId": "ee233ef3-3103-4a3d-9168-165f737b7cb8"
      },
      "source": [
        "# Determining the no. of records in our dataset\n",
        "#\n",
        "fin.shape"
      ],
      "execution_count": 312,
      "outputs": [
        {
          "output_type": "execute_result",
          "data": {
            "text/plain": [
              "(23524, 13)"
            ]
          },
          "metadata": {
            "tags": []
          },
          "execution_count": 312
        }
      ]
    },
    {
      "cell_type": "code",
      "metadata": {
        "id": "xHhTw5eKWr0n",
        "colab": {
          "base_uri": "https://localhost:8080/",
          "height": 366
        },
        "outputId": "cf6511a1-6640-4035-a01a-fd30d6efed84"
      },
      "source": [
        "# Previewing the top of our dataset\n",
        "#\n",
        "fin.head()"
      ],
      "execution_count": 198,
      "outputs": [
        {
          "output_type": "execute_result",
          "data": {
            "text/html": [
              "<div>\n",
              "<style scoped>\n",
              "    .dataframe tbody tr th:only-of-type {\n",
              "        vertical-align: middle;\n",
              "    }\n",
              "\n",
              "    .dataframe tbody tr th {\n",
              "        vertical-align: top;\n",
              "    }\n",
              "\n",
              "    .dataframe thead th {\n",
              "        text-align: right;\n",
              "    }\n",
              "</style>\n",
              "<table border=\"1\" class=\"dataframe\">\n",
              "  <thead>\n",
              "    <tr style=\"text-align: right;\">\n",
              "      <th></th>\n",
              "      <th>country</th>\n",
              "      <th>year</th>\n",
              "      <th>uniqueid</th>\n",
              "      <th>Has a Bank account</th>\n",
              "      <th>Type of Location</th>\n",
              "      <th>Cell Phone Access</th>\n",
              "      <th>household_size</th>\n",
              "      <th>Respondent Age</th>\n",
              "      <th>gender_of_respondent</th>\n",
              "      <th>The relathip with head</th>\n",
              "      <th>marital_status</th>\n",
              "      <th>Level of Educuation</th>\n",
              "      <th>Type of Job</th>\n",
              "    </tr>\n",
              "  </thead>\n",
              "  <tbody>\n",
              "    <tr>\n",
              "      <th>0</th>\n",
              "      <td>Kenya</td>\n",
              "      <td>2018</td>\n",
              "      <td>uniqueid_1</td>\n",
              "      <td>Yes</td>\n",
              "      <td>Rural</td>\n",
              "      <td>Yes</td>\n",
              "      <td>3.0</td>\n",
              "      <td>24.0</td>\n",
              "      <td>Female</td>\n",
              "      <td>Spouse</td>\n",
              "      <td>Married/Living together</td>\n",
              "      <td>Secondary education</td>\n",
              "      <td>Self employed</td>\n",
              "    </tr>\n",
              "    <tr>\n",
              "      <th>1</th>\n",
              "      <td>Kenya</td>\n",
              "      <td>2018</td>\n",
              "      <td>uniqueid_2</td>\n",
              "      <td>No</td>\n",
              "      <td>Rural</td>\n",
              "      <td>No</td>\n",
              "      <td>5.0</td>\n",
              "      <td>70.0</td>\n",
              "      <td>Female</td>\n",
              "      <td>Head of Household</td>\n",
              "      <td>Widowed</td>\n",
              "      <td>No formal education</td>\n",
              "      <td>Government Dependent</td>\n",
              "    </tr>\n",
              "    <tr>\n",
              "      <th>2</th>\n",
              "      <td>Kenya</td>\n",
              "      <td>2018</td>\n",
              "      <td>uniqueid_3</td>\n",
              "      <td>Yes</td>\n",
              "      <td>Urban</td>\n",
              "      <td>Yes</td>\n",
              "      <td>5.0</td>\n",
              "      <td>26.0</td>\n",
              "      <td>Male</td>\n",
              "      <td>Other relative</td>\n",
              "      <td>Single/Never Married</td>\n",
              "      <td>Vocational/Specialised training</td>\n",
              "      <td>Self employed</td>\n",
              "    </tr>\n",
              "    <tr>\n",
              "      <th>3</th>\n",
              "      <td>Kenya</td>\n",
              "      <td>2018</td>\n",
              "      <td>uniqueid_4</td>\n",
              "      <td>No</td>\n",
              "      <td>Rural</td>\n",
              "      <td>Yes</td>\n",
              "      <td>5.0</td>\n",
              "      <td>34.0</td>\n",
              "      <td>Female</td>\n",
              "      <td>Head of Household</td>\n",
              "      <td>Married/Living together</td>\n",
              "      <td>Primary education</td>\n",
              "      <td>Formally employed Private</td>\n",
              "    </tr>\n",
              "    <tr>\n",
              "      <th>4</th>\n",
              "      <td>Kenya</td>\n",
              "      <td>2018</td>\n",
              "      <td>uniqueid_5</td>\n",
              "      <td>No</td>\n",
              "      <td>Urban</td>\n",
              "      <td>No</td>\n",
              "      <td>8.0</td>\n",
              "      <td>26.0</td>\n",
              "      <td>Male</td>\n",
              "      <td>Child</td>\n",
              "      <td>Single/Never Married</td>\n",
              "      <td>Primary education</td>\n",
              "      <td>Informally employed</td>\n",
              "    </tr>\n",
              "  </tbody>\n",
              "</table>\n",
              "</div>"
            ],
            "text/plain": [
              "  country  year  ...              Level of Educuation                Type of Job\n",
              "0   Kenya  2018  ...              Secondary education              Self employed\n",
              "1   Kenya  2018  ...              No formal education       Government Dependent\n",
              "2   Kenya  2018  ...  Vocational/Specialised training              Self employed\n",
              "3   Kenya  2018  ...                Primary education  Formally employed Private\n",
              "4   Kenya  2018  ...                Primary education        Informally employed\n",
              "\n",
              "[5 rows x 13 columns]"
            ]
          },
          "metadata": {
            "tags": []
          },
          "execution_count": 198
        }
      ]
    },
    {
      "cell_type": "code",
      "metadata": {
        "id": "e9AzGcZFrIIr",
        "colab": {
          "base_uri": "https://localhost:8080/",
          "height": 350
        },
        "outputId": "803a9c31-8baf-4a63-8856-6e7d603bd146"
      },
      "source": [
        "# Previewing the bottom of our dataset\n",
        "# \n",
        "fin.tail()"
      ],
      "execution_count": 199,
      "outputs": [
        {
          "output_type": "execute_result",
          "data": {
            "text/html": [
              "<div>\n",
              "<style scoped>\n",
              "    .dataframe tbody tr th:only-of-type {\n",
              "        vertical-align: middle;\n",
              "    }\n",
              "\n",
              "    .dataframe tbody tr th {\n",
              "        vertical-align: top;\n",
              "    }\n",
              "\n",
              "    .dataframe thead th {\n",
              "        text-align: right;\n",
              "    }\n",
              "</style>\n",
              "<table border=\"1\" class=\"dataframe\">\n",
              "  <thead>\n",
              "    <tr style=\"text-align: right;\">\n",
              "      <th></th>\n",
              "      <th>country</th>\n",
              "      <th>year</th>\n",
              "      <th>uniqueid</th>\n",
              "      <th>Has a Bank account</th>\n",
              "      <th>Type of Location</th>\n",
              "      <th>Cell Phone Access</th>\n",
              "      <th>household_size</th>\n",
              "      <th>Respondent Age</th>\n",
              "      <th>gender_of_respondent</th>\n",
              "      <th>The relathip with head</th>\n",
              "      <th>marital_status</th>\n",
              "      <th>Level of Educuation</th>\n",
              "      <th>Type of Job</th>\n",
              "    </tr>\n",
              "  </thead>\n",
              "  <tbody>\n",
              "    <tr>\n",
              "      <th>23519</th>\n",
              "      <td>Uganda</td>\n",
              "      <td>2018</td>\n",
              "      <td>uniqueid_2113</td>\n",
              "      <td>No</td>\n",
              "      <td>Rural</td>\n",
              "      <td>Yes</td>\n",
              "      <td>4.0</td>\n",
              "      <td>48.0</td>\n",
              "      <td>Female</td>\n",
              "      <td>Head of Household</td>\n",
              "      <td>Divorced/Seperated</td>\n",
              "      <td>No formal education</td>\n",
              "      <td>Other Income</td>\n",
              "    </tr>\n",
              "    <tr>\n",
              "      <th>23520</th>\n",
              "      <td>Uganda</td>\n",
              "      <td>2018</td>\n",
              "      <td>uniqueid_2114</td>\n",
              "      <td>No</td>\n",
              "      <td>Rural</td>\n",
              "      <td>Yes</td>\n",
              "      <td>2.0</td>\n",
              "      <td>27.0</td>\n",
              "      <td>Female</td>\n",
              "      <td>Head of Household</td>\n",
              "      <td>Single/Never Married</td>\n",
              "      <td>Secondary education</td>\n",
              "      <td>Other Income</td>\n",
              "    </tr>\n",
              "    <tr>\n",
              "      <th>23521</th>\n",
              "      <td>Uganda</td>\n",
              "      <td>2018</td>\n",
              "      <td>uniqueid_2115</td>\n",
              "      <td>No</td>\n",
              "      <td>Rural</td>\n",
              "      <td>Yes</td>\n",
              "      <td>5.0</td>\n",
              "      <td>27.0</td>\n",
              "      <td>Female</td>\n",
              "      <td>Parent</td>\n",
              "      <td>Widowed</td>\n",
              "      <td>Primary education</td>\n",
              "      <td>Other Income</td>\n",
              "    </tr>\n",
              "    <tr>\n",
              "      <th>23522</th>\n",
              "      <td>Uganda</td>\n",
              "      <td>2018</td>\n",
              "      <td>uniqueid_2116</td>\n",
              "      <td>No</td>\n",
              "      <td>Urban</td>\n",
              "      <td>Yes</td>\n",
              "      <td>7.0</td>\n",
              "      <td>30.0</td>\n",
              "      <td>Female</td>\n",
              "      <td>Parent</td>\n",
              "      <td>Divorced/Seperated</td>\n",
              "      <td>Secondary education</td>\n",
              "      <td>Self employed</td>\n",
              "    </tr>\n",
              "    <tr>\n",
              "      <th>23523</th>\n",
              "      <td>Uganda</td>\n",
              "      <td>2018</td>\n",
              "      <td>uniqueid_2117</td>\n",
              "      <td>No</td>\n",
              "      <td>Rural</td>\n",
              "      <td>Yes</td>\n",
              "      <td>10.0</td>\n",
              "      <td>20.0</td>\n",
              "      <td>Male</td>\n",
              "      <td>Child</td>\n",
              "      <td>Single/Never Married</td>\n",
              "      <td>Secondary education</td>\n",
              "      <td>No Income</td>\n",
              "    </tr>\n",
              "  </tbody>\n",
              "</table>\n",
              "</div>"
            ],
            "text/plain": [
              "      country  year  ...  Level of Educuation    Type of Job\n",
              "23519  Uganda  2018  ...  No formal education   Other Income\n",
              "23520  Uganda  2018  ...  Secondary education   Other Income\n",
              "23521  Uganda  2018  ...    Primary education   Other Income\n",
              "23522  Uganda  2018  ...  Secondary education  Self employed\n",
              "23523  Uganda  2018  ...  Secondary education      No Income\n",
              "\n",
              "[5 rows x 13 columns]"
            ]
          },
          "metadata": {
            "tags": []
          },
          "execution_count": 199
        }
      ]
    },
    {
      "cell_type": "code",
      "metadata": {
        "id": "n8-dW4sQWzbc",
        "colab": {
          "base_uri": "https://localhost:8080/"
        },
        "outputId": "d63de4cd-80d2-4518-f6af-44579a7b9f2c"
      },
      "source": [
        "# Checking whether each column has an appropriate datatype\n",
        "#\n",
        "fin.dtypes"
      ],
      "execution_count": 200,
      "outputs": [
        {
          "output_type": "execute_result",
          "data": {
            "text/plain": [
              "country                    object\n",
              "year                        int64\n",
              "uniqueid                   object\n",
              "Has a Bank account         object\n",
              "Type of Location           object\n",
              "Cell Phone Access          object\n",
              "household_size            float64\n",
              "Respondent Age            float64\n",
              "gender_of_respondent       object\n",
              "The relathip with head     object\n",
              "marital_status             object\n",
              "Level of Educuation        object\n",
              "Type of Job                object\n",
              "dtype: object"
            ]
          },
          "metadata": {
            "tags": []
          },
          "execution_count": 200
        }
      ]
    },
    {
      "cell_type": "markdown",
      "metadata": {
        "id": "ckfufNrcUHeH"
      },
      "source": [
        "## 4. External Data Source Validation"
      ]
    },
    {
      "cell_type": "markdown",
      "metadata": {
        "id": "6L4sl_0WXlbg"
      },
      "source": [
        "Checked the additional information to get a clearer picture of the data. Key points is the year of the different records (depending with country). The general minimum age (16yrs) so if there's any discrepancy then that is something to question(Anomaly). One of the resources used was: [Link](https://fsduganda.or.ug/finscope-2018-survey-report/)."
      ]
    },
    {
      "cell_type": "markdown",
      "metadata": {
        "id": "6XC_g-zKxe-r"
      },
      "source": [
        "### a.Validation"
      ]
    },
    {
      "cell_type": "markdown",
      "metadata": {
        "id": "FlBMxEDBUc9B"
      },
      "source": [
        "## 5. Tidying the Dataset"
      ]
    },
    {
      "cell_type": "code",
      "metadata": {
        "colab": {
          "base_uri": "https://localhost:8080/",
          "height": 446
        },
        "id": "70CZbMZgMYHE",
        "outputId": "918b5a97-5a20-448a-caf1-9095305b64f2"
      },
      "source": [
        "# Checking for Outliers & Anomalies\r\n",
        "fig, (ax1, ax2,ax3) = plt.subplots(1,3, figsize=(15, 4))\r\n",
        "fig.suptitle('Boxplots')\r\n",
        "sns.boxplot(fin['year'], ax=ax1, showmeans = True)\r\n",
        "sns.boxplot(fin['household_size'], ax=ax2, showmeans = True)\r\n",
        "sns.boxplot(fin['Respondent Age'], ax=ax3, showmeans = True)"
      ],
      "execution_count": 302,
      "outputs": [
        {
          "output_type": "stream",
          "text": [
            "/usr/local/lib/python3.6/dist-packages/seaborn/_decorators.py:43: FutureWarning: Pass the following variable as a keyword arg: x. From version 0.12, the only valid positional argument will be `data`, and passing other arguments without an explicit keyword will result in an error or misinterpretation.\n",
            "  FutureWarning\n",
            "/usr/local/lib/python3.6/dist-packages/seaborn/_decorators.py:43: FutureWarning: Pass the following variable as a keyword arg: x. From version 0.12, the only valid positional argument will be `data`, and passing other arguments without an explicit keyword will result in an error or misinterpretation.\n",
            "  FutureWarning\n",
            "/usr/local/lib/python3.6/dist-packages/seaborn/_decorators.py:43: FutureWarning: Pass the following variable as a keyword arg: x. From version 0.12, the only valid positional argument will be `data`, and passing other arguments without an explicit keyword will result in an error or misinterpretation.\n",
            "  FutureWarning\n"
          ],
          "name": "stderr"
        },
        {
          "output_type": "execute_result",
          "data": {
            "text/plain": [
              "<matplotlib.axes._subplots.AxesSubplot at 0x7f74ce435940>"
            ]
          },
          "metadata": {
            "tags": []
          },
          "execution_count": 302
        },
        {
          "output_type": "display_data",
          "data": {
            "image/png": "[encoded data removed]",
            "text/plain": [
              "<Figure size 1080x288 with 3 Axes>"
            ]
          },
          "metadata": {
            "tags": [],
            "needs_background": "light"
          }
        }
      ]
    },
    {
      "cell_type": "code",
      "metadata": {
        "id": "5o_bQcT5W3Wz",
        "colab": {
          "base_uri": "https://localhost:8080/",
          "height": 198
        },
        "outputId": "a97fcc79-b3f4-41e6-bad2-75db6afe13ad"
      },
      "source": [
        "# Checking for Outliers & Anomalies\n",
        "#from external source validation we know the years for each respective country so we can correct that\n",
        "#instead of removing\n",
        "from scipy import stats\n",
        "import numpy as np\n",
        "\n",
        "#for year\n",
        "z = np.abs(stats.zscore(fin['year']))\n",
        "print(z)\n",
        "threshold = 3\n",
        "print(np.where(z > 3))\n",
        "\n",
        "\n",
        "#row indexes[213,308,7014]\n",
        "#replacing\n",
        "fin.loc[[213]]\n",
        "#213 is a Kenyan record so it should be 2018\n",
        "fin.replace({'year': {2029: 2018}}, inplace= True)\n",
        "\n",
        "#replacing\n",
        "fin.loc[[308]]\n",
        "#308 is a Kenyan record so it should be 2018\n",
        "fin.replace({'year': {2056: 2018}}, inplace= True)\n",
        "\n",
        "#replacing\n",
        "fin.loc[[7014]]\n",
        "#308 is a Rwandan record so it should be 2016\n",
        "fin.replace({'year': {2039: 2016}}, inplace= True)\n",
        "fin.loc[[7014]]"
      ],
      "execution_count": 324,
      "outputs": [
        {
          "output_type": "stream",
          "text": [
            "[1.1348855 1.1348855 1.1348855 ... 1.1348855 1.1348855 1.1348855]\n",
            "(array([ 213,  308, 7014]),)\n"
          ],
          "name": "stdout"
        },
        {
          "output_type": "execute_result",
          "data": {
            "text/html": [
              "<div>\n",
              "<style scoped>\n",
              "    .dataframe tbody tr th:only-of-type {\n",
              "        vertical-align: middle;\n",
              "    }\n",
              "\n",
              "    .dataframe tbody tr th {\n",
              "        vertical-align: top;\n",
              "    }\n",
              "\n",
              "    .dataframe thead th {\n",
              "        text-align: right;\n",
              "    }\n",
              "</style>\n",
              "<table border=\"1\" class=\"dataframe\">\n",
              "  <thead>\n",
              "    <tr style=\"text-align: right;\">\n",
              "      <th></th>\n",
              "      <th>country</th>\n",
              "      <th>year</th>\n",
              "      <th>uniqueid</th>\n",
              "      <th>Has a Bank account</th>\n",
              "      <th>Type of Location</th>\n",
              "      <th>Cell Phone Access</th>\n",
              "      <th>household_size</th>\n",
              "      <th>Respondent Age</th>\n",
              "      <th>gender_of_respondent</th>\n",
              "      <th>The relathip with head</th>\n",
              "      <th>marital_status</th>\n",
              "      <th>Level of Educuation</th>\n",
              "      <th>Type of Job</th>\n",
              "    </tr>\n",
              "  </thead>\n",
              "  <tbody>\n",
              "    <tr>\n",
              "      <th>7014</th>\n",
              "      <td>Rwanda</td>\n",
              "      <td>2016</td>\n",
              "      <td>uniqueid_947</td>\n",
              "      <td>No</td>\n",
              "      <td>Rural</td>\n",
              "      <td>Yes</td>\n",
              "      <td>3.0</td>\n",
              "      <td>24.0</td>\n",
              "      <td>Female</td>\n",
              "      <td>Spouse</td>\n",
              "      <td>Married/Living together</td>\n",
              "      <td>Primary education</td>\n",
              "      <td>Informally employed</td>\n",
              "    </tr>\n",
              "  </tbody>\n",
              "</table>\n",
              "</div>"
            ],
            "text/plain": [
              "     country  year  ... Level of Educuation          Type of Job\n",
              "7014  Rwanda  2016  ...   Primary education  Informally employed\n",
              "\n",
              "[1 rows x 13 columns]"
            ]
          },
          "metadata": {
            "tags": []
          },
          "execution_count": 324
        }
      ]
    },
    {
      "cell_type": "code",
      "metadata": {
        "colab": {
          "base_uri": "https://localhost:8080/"
        },
        "id": "WY2LaVNUNFpw",
        "outputId": "a7d843fb-34a9-4ff7-bec3-25475fc16a5e"
      },
      "source": [
        "#checking for outliers in the other numeric columns\r\n",
        "z = np.abs(stats.zscore(fin[['household_size','Respondent Age']]))\r\n",
        "print(z)\r\n",
        "threshold = 3\r\n",
        "print(np.where(z > 3))\r\n",
        "\r\n",
        "\r\n",
        "#no anomalies\r\n"
      ],
      "execution_count": 325,
      "outputs": [
        {
          "output_type": "stream",
          "text": [
            "[[nan nan]\n",
            " [nan nan]\n",
            " [nan nan]\n",
            " ...\n",
            " [nan nan]\n",
            " [nan nan]\n",
            " [nan nan]]\n",
            "(array([], dtype=int64), array([], dtype=int64))\n"
          ],
          "name": "stdout"
        }
      ]
    },
    {
      "cell_type": "code",
      "metadata": {
        "id": "YEIZif1YjzXa"
      },
      "source": [
        "#CHecking and dealing with outliers in the Age column using InterQuartile Range\r\n",
        "q1_age, q3_age = np.percentile(fin['Respondent Age'], [25, 75]) \r\n",
        "\r\n",
        "iqr = q3_age - q1_age\r\n",
        "\r\n",
        "l_bound = q1_age - (1.5*iqr)\r\n",
        "u_bound = q1_age + (1.5 * iqr)\r\n",
        "\r\n",
        "fin[(fin['Respondent Age'] < l_bound) | (fin['Respondent Age'] > u_bound)]\r\n",
        "fin.drop(fin[ (fin['Respondent Age'] > u_bound) | (fin['Respondent Age'] < l_bound) ].index , inplace=True)"
      ],
      "execution_count": 327,
      "outputs": []
    },
    {
      "cell_type": "code",
      "metadata": {
        "id": "PvCYb6dgW4yh",
        "colab": {
          "base_uri": "https://localhost:8080/"
        },
        "outputId": "a5d8b1cc-938c-4758-fb91-c9cc99c9b6a8"
      },
      "source": [
        "# Identifying the Missing Data\n",
        "#\n",
        "fin.isnull().any()"
      ],
      "execution_count": 318,
      "outputs": [
        {
          "output_type": "execute_result",
          "data": {
            "text/plain": [
              "country                    True\n",
              "year                      False\n",
              "uniqueid                  False\n",
              "Has a Bank account         True\n",
              "Type of Location           True\n",
              "Cell Phone Access          True\n",
              "household_size             True\n",
              "Respondent Age             True\n",
              "gender_of_respondent       True\n",
              "The relathip with head     True\n",
              "marital_status             True\n",
              "Level of Educuation        True\n",
              "Type of Job                True\n",
              "dtype: bool"
            ]
          },
          "metadata": {
            "tags": []
          },
          "execution_count": 318
        }
      ]
    },
    {
      "cell_type": "code",
      "metadata": {
        "id": "MpsDGKZHsf_W",
        "colab": {
          "base_uri": "https://localhost:8080/",
          "height": 366
        },
        "outputId": "0ca2a39f-b46a-407e-c687-d5ea578ad4b0"
      },
      "source": [
        "# Dealing with the Missing Data\n",
        "#\n",
        "fin.dropna(0,inplace= True)\n",
        "fin.head()"
      ],
      "execution_count": 329,
      "outputs": [
        {
          "output_type": "execute_result",
          "data": {
            "text/html": [
              "<div>\n",
              "<style scoped>\n",
              "    .dataframe tbody tr th:only-of-type {\n",
              "        vertical-align: middle;\n",
              "    }\n",
              "\n",
              "    .dataframe tbody tr th {\n",
              "        vertical-align: top;\n",
              "    }\n",
              "\n",
              "    .dataframe thead th {\n",
              "        text-align: right;\n",
              "    }\n",
              "</style>\n",
              "<table border=\"1\" class=\"dataframe\">\n",
              "  <thead>\n",
              "    <tr style=\"text-align: right;\">\n",
              "      <th></th>\n",
              "      <th>country</th>\n",
              "      <th>year</th>\n",
              "      <th>uniqueid</th>\n",
              "      <th>Has a Bank account</th>\n",
              "      <th>Type of Location</th>\n",
              "      <th>Cell Phone Access</th>\n",
              "      <th>household_size</th>\n",
              "      <th>Respondent Age</th>\n",
              "      <th>gender_of_respondent</th>\n",
              "      <th>The relathip with head</th>\n",
              "      <th>marital_status</th>\n",
              "      <th>Level of Educuation</th>\n",
              "      <th>Type of Job</th>\n",
              "    </tr>\n",
              "  </thead>\n",
              "  <tbody>\n",
              "    <tr>\n",
              "      <th>0</th>\n",
              "      <td>Kenya</td>\n",
              "      <td>2018</td>\n",
              "      <td>uniqueid_1</td>\n",
              "      <td>Yes</td>\n",
              "      <td>Rural</td>\n",
              "      <td>Yes</td>\n",
              "      <td>3.0</td>\n",
              "      <td>24.0</td>\n",
              "      <td>Female</td>\n",
              "      <td>Spouse</td>\n",
              "      <td>Married/Living together</td>\n",
              "      <td>Secondary education</td>\n",
              "      <td>Self employed</td>\n",
              "    </tr>\n",
              "    <tr>\n",
              "      <th>1</th>\n",
              "      <td>Kenya</td>\n",
              "      <td>2018</td>\n",
              "      <td>uniqueid_2</td>\n",
              "      <td>No</td>\n",
              "      <td>Rural</td>\n",
              "      <td>No</td>\n",
              "      <td>5.0</td>\n",
              "      <td>70.0</td>\n",
              "      <td>Female</td>\n",
              "      <td>Head of Household</td>\n",
              "      <td>Widowed</td>\n",
              "      <td>No formal education</td>\n",
              "      <td>Government Dependent</td>\n",
              "    </tr>\n",
              "    <tr>\n",
              "      <th>2</th>\n",
              "      <td>Kenya</td>\n",
              "      <td>2018</td>\n",
              "      <td>uniqueid_3</td>\n",
              "      <td>Yes</td>\n",
              "      <td>Urban</td>\n",
              "      <td>Yes</td>\n",
              "      <td>5.0</td>\n",
              "      <td>26.0</td>\n",
              "      <td>Male</td>\n",
              "      <td>Other relative</td>\n",
              "      <td>Single/Never Married</td>\n",
              "      <td>Vocational/Specialised training</td>\n",
              "      <td>Self employed</td>\n",
              "    </tr>\n",
              "    <tr>\n",
              "      <th>3</th>\n",
              "      <td>Kenya</td>\n",
              "      <td>2018</td>\n",
              "      <td>uniqueid_4</td>\n",
              "      <td>No</td>\n",
              "      <td>Rural</td>\n",
              "      <td>Yes</td>\n",
              "      <td>5.0</td>\n",
              "      <td>34.0</td>\n",
              "      <td>Female</td>\n",
              "      <td>Head of Household</td>\n",
              "      <td>Married/Living together</td>\n",
              "      <td>Primary education</td>\n",
              "      <td>Formally employed Private</td>\n",
              "    </tr>\n",
              "    <tr>\n",
              "      <th>4</th>\n",
              "      <td>Kenya</td>\n",
              "      <td>2018</td>\n",
              "      <td>uniqueid_5</td>\n",
              "      <td>No</td>\n",
              "      <td>Urban</td>\n",
              "      <td>No</td>\n",
              "      <td>8.0</td>\n",
              "      <td>26.0</td>\n",
              "      <td>Male</td>\n",
              "      <td>Child</td>\n",
              "      <td>Single/Never Married</td>\n",
              "      <td>Primary education</td>\n",
              "      <td>Informally employed</td>\n",
              "    </tr>\n",
              "  </tbody>\n",
              "</table>\n",
              "</div>"
            ],
            "text/plain": [
              "  country  year  ...              Level of Educuation                Type of Job\n",
              "0   Kenya  2018  ...              Secondary education              Self employed\n",
              "1   Kenya  2018  ...              No formal education       Government Dependent\n",
              "2   Kenya  2018  ...  Vocational/Specialised training              Self employed\n",
              "3   Kenya  2018  ...                Primary education  Formally employed Private\n",
              "4   Kenya  2018  ...                Primary education        Informally employed\n",
              "\n",
              "[5 rows x 13 columns]"
            ]
          },
          "metadata": {
            "tags": []
          },
          "execution_count": 329
        }
      ]
    },
    {
      "cell_type": "code",
      "metadata": {
        "id": "D-4I__6Os4C5",
        "colab": {
          "base_uri": "https://localhost:8080/",
          "height": 316
        },
        "outputId": "44b4e68f-687c-4b93-fbe7-0a51dc545867"
      },
      "source": [
        "# More data cleaning procedures\n",
        "#standardizing the column names and dropping unnecessary fields\n",
        "#column names\n",
        "fin.columns = fin.columns.str.replace(' ', '_') \n",
        "fin.columns = fin.columns.str.strip() \n",
        "fin.columns = fin.columns.str.lower()\n",
        "#dropping column\n",
        "fin.drop('uniqueid', axis=1, inplace=True)\n",
        "#rename column\n",
        "fin.rename({'respondent_age': 'age','gender_of_respondent': 'gender','the_relathip_with_head': 'r_ship_with_head'}, axis=1, inplace=True)\n",
        "fin.head()"
      ],
      "execution_count": 330,
      "outputs": [
        {
          "output_type": "execute_result",
          "data": {
            "text/html": [
              "<div>\n",
              "<style scoped>\n",
              "    .dataframe tbody tr th:only-of-type {\n",
              "        vertical-align: middle;\n",
              "    }\n",
              "\n",
              "    .dataframe tbody tr th {\n",
              "        vertical-align: top;\n",
              "    }\n",
              "\n",
              "    .dataframe thead th {\n",
              "        text-align: right;\n",
              "    }\n",
              "</style>\n",
              "<table border=\"1\" class=\"dataframe\">\n",
              "  <thead>\n",
              "    <tr style=\"text-align: right;\">\n",
              "      <th></th>\n",
              "      <th>country</th>\n",
              "      <th>year</th>\n",
              "      <th>has_a_bank_account</th>\n",
              "      <th>type_of_location</th>\n",
              "      <th>cell_phone_access</th>\n",
              "      <th>household_size</th>\n",
              "      <th>age</th>\n",
              "      <th>gender</th>\n",
              "      <th>r_ship_with_head</th>\n",
              "      <th>marital_status</th>\n",
              "      <th>level_of_educuation</th>\n",
              "      <th>type_of_job</th>\n",
              "    </tr>\n",
              "  </thead>\n",
              "  <tbody>\n",
              "    <tr>\n",
              "      <th>0</th>\n",
              "      <td>Kenya</td>\n",
              "      <td>2018</td>\n",
              "      <td>Yes</td>\n",
              "      <td>Rural</td>\n",
              "      <td>Yes</td>\n",
              "      <td>3.0</td>\n",
              "      <td>24.0</td>\n",
              "      <td>Female</td>\n",
              "      <td>Spouse</td>\n",
              "      <td>Married/Living together</td>\n",
              "      <td>Secondary education</td>\n",
              "      <td>Self employed</td>\n",
              "    </tr>\n",
              "    <tr>\n",
              "      <th>1</th>\n",
              "      <td>Kenya</td>\n",
              "      <td>2018</td>\n",
              "      <td>No</td>\n",
              "      <td>Rural</td>\n",
              "      <td>No</td>\n",
              "      <td>5.0</td>\n",
              "      <td>70.0</td>\n",
              "      <td>Female</td>\n",
              "      <td>Head of Household</td>\n",
              "      <td>Widowed</td>\n",
              "      <td>No formal education</td>\n",
              "      <td>Government Dependent</td>\n",
              "    </tr>\n",
              "    <tr>\n",
              "      <th>2</th>\n",
              "      <td>Kenya</td>\n",
              "      <td>2018</td>\n",
              "      <td>Yes</td>\n",
              "      <td>Urban</td>\n",
              "      <td>Yes</td>\n",
              "      <td>5.0</td>\n",
              "      <td>26.0</td>\n",
              "      <td>Male</td>\n",
              "      <td>Other relative</td>\n",
              "      <td>Single/Never Married</td>\n",
              "      <td>Vocational/Specialised training</td>\n",
              "      <td>Self employed</td>\n",
              "    </tr>\n",
              "    <tr>\n",
              "      <th>3</th>\n",
              "      <td>Kenya</td>\n",
              "      <td>2018</td>\n",
              "      <td>No</td>\n",
              "      <td>Rural</td>\n",
              "      <td>Yes</td>\n",
              "      <td>5.0</td>\n",
              "      <td>34.0</td>\n",
              "      <td>Female</td>\n",
              "      <td>Head of Household</td>\n",
              "      <td>Married/Living together</td>\n",
              "      <td>Primary education</td>\n",
              "      <td>Formally employed Private</td>\n",
              "    </tr>\n",
              "    <tr>\n",
              "      <th>4</th>\n",
              "      <td>Kenya</td>\n",
              "      <td>2018</td>\n",
              "      <td>No</td>\n",
              "      <td>Urban</td>\n",
              "      <td>No</td>\n",
              "      <td>8.0</td>\n",
              "      <td>26.0</td>\n",
              "      <td>Male</td>\n",
              "      <td>Child</td>\n",
              "      <td>Single/Never Married</td>\n",
              "      <td>Primary education</td>\n",
              "      <td>Informally employed</td>\n",
              "    </tr>\n",
              "  </tbody>\n",
              "</table>\n",
              "</div>"
            ],
            "text/plain": [
              "  country  year  ...              level_of_educuation                type_of_job\n",
              "0   Kenya  2018  ...              Secondary education              Self employed\n",
              "1   Kenya  2018  ...              No formal education       Government Dependent\n",
              "2   Kenya  2018  ...  Vocational/Specialised training              Self employed\n",
              "3   Kenya  2018  ...                Primary education  Formally employed Private\n",
              "4   Kenya  2018  ...                Primary education        Informally employed\n",
              "\n",
              "[5 rows x 12 columns]"
            ]
          },
          "metadata": {
            "tags": []
          },
          "execution_count": 330
        }
      ]
    },
    {
      "cell_type": "markdown",
      "metadata": {
        "id": "rF2ABPsHUtbZ"
      },
      "source": [
        "## 6. Exploratory Analysis"
      ]
    },
    {
      "cell_type": "markdown",
      "metadata": {
        "id": "iVWqCnZYfHmx"
      },
      "source": [
        "###Univariate Analysis"
      ]
    },
    {
      "cell_type": "code",
      "metadata": {
        "id": "5nnRToniXGDK",
        "colab": {
          "base_uri": "https://localhost:8080/",
          "height": 284
        },
        "outputId": "8396ed8d-7a2f-47c0-bdc7-fbcdf2ef673c"
      },
      "source": [
        "# Ploting the Univariate summaries and recording our observations\n",
        "#\n",
        "#general statistics of the numerical data\n",
        "fin.describe()"
      ],
      "execution_count": 267,
      "outputs": [
        {
          "output_type": "execute_result",
          "data": {
            "text/html": [
              "<div>\n",
              "<style scoped>\n",
              "    .dataframe tbody tr th:only-of-type {\n",
              "        vertical-align: middle;\n",
              "    }\n",
              "\n",
              "    .dataframe tbody tr th {\n",
              "        vertical-align: top;\n",
              "    }\n",
              "\n",
              "    .dataframe thead th {\n",
              "        text-align: right;\n",
              "    }\n",
              "</style>\n",
              "<table border=\"1\" class=\"dataframe\">\n",
              "  <thead>\n",
              "    <tr style=\"text-align: right;\">\n",
              "      <th></th>\n",
              "      <th>year</th>\n",
              "      <th>household_size</th>\n",
              "      <th>age</th>\n",
              "    </tr>\n",
              "  </thead>\n",
              "  <tbody>\n",
              "    <tr>\n",
              "      <th>count</th>\n",
              "      <td>20529.000000</td>\n",
              "      <td>20529.000000</td>\n",
              "      <td>20529.000000</td>\n",
              "    </tr>\n",
              "    <tr>\n",
              "      <th>mean</th>\n",
              "      <td>2016.978226</td>\n",
              "      <td>3.816991</td>\n",
              "      <td>34.361148</td>\n",
              "    </tr>\n",
              "    <tr>\n",
              "      <th>std</th>\n",
              "      <td>0.848330</td>\n",
              "      <td>2.300850</td>\n",
              "      <td>11.744840</td>\n",
              "    </tr>\n",
              "    <tr>\n",
              "      <th>min</th>\n",
              "      <td>2016.000000</td>\n",
              "      <td>0.000000</td>\n",
              "      <td>16.000000</td>\n",
              "    </tr>\n",
              "    <tr>\n",
              "      <th>25%</th>\n",
              "      <td>2016.000000</td>\n",
              "      <td>2.000000</td>\n",
              "      <td>25.000000</td>\n",
              "    </tr>\n",
              "    <tr>\n",
              "      <th>50%</th>\n",
              "      <td>2017.000000</td>\n",
              "      <td>3.000000</td>\n",
              "      <td>33.000000</td>\n",
              "    </tr>\n",
              "    <tr>\n",
              "      <th>75%</th>\n",
              "      <td>2018.000000</td>\n",
              "      <td>5.000000</td>\n",
              "      <td>43.000000</td>\n",
              "    </tr>\n",
              "    <tr>\n",
              "      <th>max</th>\n",
              "      <td>2018.000000</td>\n",
              "      <td>21.000000</td>\n",
              "      <td>60.000000</td>\n",
              "    </tr>\n",
              "  </tbody>\n",
              "</table>\n",
              "</div>"
            ],
            "text/plain": [
              "               year  household_size           age\n",
              "count  20529.000000    20529.000000  20529.000000\n",
              "mean    2016.978226        3.816991     34.361148\n",
              "std        0.848330        2.300850     11.744840\n",
              "min     2016.000000        0.000000     16.000000\n",
              "25%     2016.000000        2.000000     25.000000\n",
              "50%     2017.000000        3.000000     33.000000\n",
              "75%     2018.000000        5.000000     43.000000\n",
              "max     2018.000000       21.000000     60.000000"
            ]
          },
          "metadata": {
            "tags": []
          },
          "execution_count": 267
        }
      ]
    },
    {
      "cell_type": "markdown",
      "metadata": {
        "id": "wM1jmuDTgh7c"
      },
      "source": [
        ">The above statistics give a genetal idea of the data(mean, range, how many records)."
      ]
    },
    {
      "cell_type": "code",
      "metadata": {
        "colab": {
          "base_uri": "https://localhost:8080/"
        },
        "id": "WxLvxcKGgKFz",
        "outputId": "1c6ffc36-85e5-4f52-d1bf-c89f1c955519"
      },
      "source": [
        "print(f'country: {fin.country.nunique()}')\r\n",
        "print(f'year: {fin.year.nunique()}')\r\n",
        "print(f'has_a_bank_account: {fin.has_a_bank_account.nunique()}')\r\n",
        "print(f'type_of_location: {fin.type_of_location.nunique()}')\r\n",
        "print(f'cell_phone_access: {fin.cell_phone_access.nunique()}')\r\n",
        "print(f'household_size: {fin.household_size.nunique()}')\r\n",
        "print(f'age: {fin.age.nunique()}')\r\n",
        "print(f'gender: {fin.gender.nunique()}')\r\n",
        "print(f'r_ship_with_head: {fin.r_ship_with_head.nunique()}')\r\n",
        "print(f'marital_status: {fin.marital_status.nunique()}')\r\n",
        "print(f'level_education: {fin.marital_status.nunique()}')\r\n",
        "print(f'type_of_job: {fin.type_of_job.nunique()}')\r\n"
      ],
      "execution_count": 213,
      "outputs": [
        {
          "output_type": "stream",
          "text": [
            "country: 4\n",
            "year: 3\n",
            "has_a_bank_account: 2\n",
            "type_of_location: 2\n",
            "cell_phone_access: 2\n",
            "household_size: 21\n",
            "age: 85\n",
            "gender: 2\n",
            "r_ship_with_head: 6\n",
            "marital_status: 5\n",
            "level_education: 5\n",
            "type_of_job: 10\n"
          ],
          "name": "stdout"
        }
      ]
    },
    {
      "cell_type": "markdown",
      "metadata": {
        "id": "zTkrBv3dm-Rw"
      },
      "source": [
        ">Above is the unique count of each column, gives us information of possible categories when we get to implementing the solution"
      ]
    },
    {
      "cell_type": "code",
      "metadata": {
        "id": "6UzyQC6kmdBi",
        "colab": {
          "base_uri": "https://localhost:8080/"
        },
        "outputId": "925803fa-dac6-4f07-f418-af4f9939c87b"
      },
      "source": [
        "#Measures of central tendency and dispersion\n",
        "#Using Age as this is the independent variable that we propose influences the dependent variable(Has a bank account)\n",
        "print(f'Min: {fin.age.min()}')\n",
        "print(f'Q1: {fin.age.quantile(.25)}')\n",
        "print(f'Q2: {fin.age.quantile(.50)}')\n",
        "print(f'Q3: {fin.age.quantile(.75)}')\n",
        "print(f'Max: {fin.age.max()}')\n",
        "print('*'*15)\n",
        "\n",
        "print(f'Mean: {fin.age.mean()}')\n",
        "print(f'Median: {fin.age.median()}')\n",
        "print(f'Mode: {fin.age.mode().values[0]}')\n",
        "print('*'*15)\n",
        "\n",
        "print(f'Skew: {fin.age.skew()}')\n",
        "print(f'Kurtosis: {fin.age.kurt()}')\n"
      ],
      "execution_count": 231,
      "outputs": [
        {
          "output_type": "stream",
          "text": [
            "Min: 16.0\n",
            "Q1: 26.0\n",
            "Q2: 35.0\n",
            "Q3: 49.0\n",
            "Max: 100.0\n",
            "***************\n",
            "Mean: 38.80550914621085\n",
            "Median: 35.0\n",
            "Mode: 30.0\n",
            "***************\n",
            "Skew: 0.840661747532081\n",
            "Kurtosis: 0.09844652254807196\n"
          ],
          "name": "stdout"
        }
      ]
    },
    {
      "cell_type": "markdown",
      "metadata": {
        "id": "JRyF6ckyLRgW"
      },
      "source": [
        ">From the above summary data we can observe that the age data is positively skewed meaning that the mean is greater than the mode\r\n",
        "and it's Leptokurtic meaning that the tail of the distribution is heavy (outlier present)."
      ]
    },
    {
      "cell_type": "code",
      "metadata": {
        "colab": {
          "base_uri": "https://localhost:8080/",
          "height": 385
        },
        "id": "E71IcK4qK8M8",
        "outputId": "9489ce19-67f0-4238-e495-9a169f256413"
      },
      "source": [
        "#Visual look at the age data\r\n",
        "sns.displot(fin['age'], kind='hist',bins=10, kde=False)\r\n",
        "plt.ylabel(\"Frequency\")\r\n",
        "plt.xlabel(\"Age of the Respondent\")\r\n",
        "plt.title(\"Age Frequency Histogram\")\r\n",
        "plt.show()"
      ],
      "execution_count": 243,
      "outputs": [
        {
          "output_type": "display_data",
          "data": {
            "image/png": "[encoded data removed]",
            "text/plain": [
              "<Figure size 360x360 with 1 Axes>"
            ]
          },
          "metadata": {
            "tags": [],
            "needs_background": "light"
          }
        }
      ]
    },
    {
      "cell_type": "markdown",
      "metadata": {
        "id": "TPvNkbMvi9sF"
      },
      "source": [
        ">areas to note on the histogram is that it is not noramlly distributed. has a skew which can affect testing and model building"
      ]
    },
    {
      "cell_type": "code",
      "metadata": {
        "colab": {
          "base_uri": "https://localhost:8080/"
        },
        "id": "E8S-dFCZmES-",
        "outputId": "b0a273a1-ef27-41f2-ea43-7ea31d050309"
      },
      "source": [
        "#Measures of central tendency and dispersion\r\n",
        "#Using Household size because it could also be an indicator of the dependent variable(Has a bank account)\r\n",
        "print(f'Min: {fin.household_size.min()}')\r\n",
        "print(f'Q1: {fin.household_size.quantile(.25)}')\r\n",
        "print(f'Q2: {fin.household_size.quantile(.50)}')\r\n",
        "print(f'Q3: {fin.household_size.quantile(.75)}')\r\n",
        "print(f'Max: {fin.household_size.max()}')\r\n",
        "print('*'*15)\r\n",
        "\r\n",
        "print(f'Mean: {fin.household_size.mean()}')\r\n",
        "print(f'Median: {fin.household_size.median()}')\r\n",
        "print(f'Mode: {fin.household_size.mode().values[0]}')\r\n",
        "print('*'*15)\r\n",
        "\r\n",
        "print(f'Skew: {fin.household_size.skew()}')\r\n",
        "print(f'Kurtosis: {fin.household_size.kurt()}')"
      ],
      "execution_count": 271,
      "outputs": [
        {
          "output_type": "stream",
          "text": [
            "Min: 0.0\n",
            "Q1: 2.0\n",
            "Q2: 3.0\n",
            "Q3: 5.0\n",
            "Max: 21.0\n",
            "***************\n",
            "Mean: 3.8169905986653028\n",
            "Median: 3.0\n",
            "Mode: 2.0\n",
            "***************\n",
            "Skew: 0.907232935909039\n",
            "Kurtosis: 0.9883449703123355\n"
          ],
          "name": "stdout"
        }
      ]
    },
    {
      "cell_type": "markdown",
      "metadata": {
        "id": "XNM9JjlIme5o"
      },
      "source": [
        ">From the above summary data we can observe that the age data is positively skewed meaning that the mean is greater than the mode\r\n",
        "and it's Leptokurtic meaning that the tail of the distribution is heavy (outlier present)."
      ]
    },
    {
      "cell_type": "code",
      "metadata": {
        "colab": {
          "base_uri": "https://localhost:8080/",
          "height": 384
        },
        "id": "Um536RC2mlS8",
        "outputId": "8586e8a0-98aa-43be-d5b0-a7791d412705"
      },
      "source": [
        "#Visual look at the age data\r\n",
        "sns.displot(fin['household_size'], kind='hist',bins=10, kde=False)\r\n",
        "plt.ylabel(\"Count\")\r\n",
        "plt.xlabel(\"Number of Persons in Household\")\r\n",
        "plt.title(\"Number of People in Household Histogram\")\r\n",
        "plt.show()"
      ],
      "execution_count": 273,
      "outputs": [
        {
          "output_type": "display_data",
          "data": {
            "image/png": "[encoded data removed]",
            "text/plain": [
              "<Figure size 360x360 with 1 Axes>"
            ]
          },
          "metadata": {
            "tags": [],
            "needs_background": "light"
          }
        }
      ]
    },
    {
      "cell_type": "markdown",
      "metadata": {
        "id": "W1TYTfZ0fe_k"
      },
      "source": [
        "###Bivariate Analysis"
      ]
    },
    {
      "cell_type": "code",
      "metadata": {
        "colab": {
          "base_uri": "https://localhost:8080/",
          "height": 270
        },
        "id": "jwYXt2pAfiZv",
        "outputId": "7129fc34-3bdd-4a67-eedb-9c041f0038c8"
      },
      "source": [
        "# Ploting the bivariate summaries and recording our observations\r\n",
        "#Numerical to Numerical:Correlation\r\n",
        "#checking correlations\r\n",
        "sns.heatmap(fin.corr(),annot=True)\r\n",
        "plt.show()"
      ],
      "execution_count": 248,
      "outputs": [
        {
          "output_type": "display_data",
          "data": {
            "image/png": "[encoded data removed]",
            "text/plain": [
              "<Figure size 432x288 with 2 Axes>"
            ]
          },
          "metadata": {
            "tags": [],
            "needs_background": "light"
          }
        }
      ]
    },
    {
      "cell_type": "markdown",
      "metadata": {
        "id": "mAtRRqsdO28D"
      },
      "source": [
        ">As can be seen in the above heatmap, there is minimal correlation between the variables."
      ]
    },
    {
      "cell_type": "code",
      "metadata": {
        "colab": {
          "base_uri": "https://localhost:8080/",
          "height": 567
        },
        "id": "y3vhSkZrPQvQ",
        "outputId": "138c3478-2042-4cca-b302-cdf5c202efd2"
      },
      "source": [
        "#Pair plot(summary of relationships)\r\n",
        "sns.pairplot(fin, diag_kind='kde')"
      ],
      "execution_count": 268,
      "outputs": [
        {
          "output_type": "execute_result",
          "data": {
            "text/plain": [
              "<seaborn.axisgrid.PairGrid at 0x7f74ce7d2cf8>"
            ]
          },
          "metadata": {
            "tags": []
          },
          "execution_count": 268
        },
        {
          "output_type": "display_data",
          "data": {
            "image/png": "[encoded data removed]",
            "text/plain": [
              "<Figure size 540x540 with 12 Axes>"
            ]
          },
          "metadata": {
            "tags": [],
            "needs_background": "light"
          }
        }
      ]
    },
    {
      "cell_type": "markdown",
      "metadata": {
        "id": "vocesrahRGCd"
      },
      "source": [
        ">The above summary shows again, no relation between the variables as points are spread out."
      ]
    },
    {
      "cell_type": "code",
      "metadata": {
        "colab": {
          "base_uri": "https://localhost:8080/"
        },
        "id": "idTyFpsjPiMc",
        "outputId": "b73c26a2-ca7b-4e50-bce7-0c69d28a3614"
      },
      "source": [
        "#Numerical to Categorical: t-test\r\n",
        "#Age and Has a bank account\r\n",
        "#subsetting dfs by account\r\n",
        "has_ac = fin[(fin['has_a_bank_account'] == 'Yes')]\r\n",
        "no_ac = fin[(fin['has_a_bank_account'] == 'No')]\r\n",
        "\r\n",
        "# Before the t-test can be conducted, the assumptions of the t-test needs\r\n",
        "# to be checked to see if the t-test results can be trusted in order to be used\r\n",
        "#Assumptions in order for the test results to be valid.\r\n",
        "# 1. The samples are independently and randomly drawn\r\n",
        "# 2. The distribution of the residuals between the two groups should follow the normal distribution\r\n",
        "# 3. The variances between the two groups are equal\r\n",
        "# If any of these assumptions are violated then another test should be used. \r\n",
        "# The dependent variable (outcome being measured) should be continuous which is measured on an interval or ratio scale.\r\n",
        "# --- \r\n",
        "stats.levene(has_ac['age'], no_ac['age'])"
      ],
      "execution_count": 276,
      "outputs": [
        {
          "output_type": "execute_result",
          "data": {
            "text/plain": [
              "LeveneResult(statistic=92.84411572619186, pvalue=6.296415965318851e-22)"
            ]
          },
          "metadata": {
            "tags": []
          },
          "execution_count": 276
        }
      ]
    },
    {
      "cell_type": "markdown",
      "metadata": {
        "id": "Yxw7OdYNipYC"
      },
      "source": [
        ">In the above cell we see that the variable violates the t-test, therefore we try the Welch's t-test"
      ]
    },
    {
      "cell_type": "code",
      "metadata": {
        "colab": {
          "base_uri": "https://localhost:8080/"
        },
        "id": "xneMgijPfF4p",
        "outputId": "4872b16c-7004-4621-e4e0-af31d5329b45"
      },
      "source": [
        "#performing the Welch's t-test\r\n",
        "print(stats.shapiro(has_ac['age']))\r\n",
        "print(stats.shapiro(no_ac['age']))"
      ],
      "execution_count": 270,
      "outputs": [
        {
          "output_type": "stream",
          "text": [
            "(0.9662525653839111, 7.622231678634777e-26)\n",
            "(0.9552112817764282, 0.0)\n"
          ],
          "name": "stdout"
        },
        {
          "output_type": "stream",
          "text": [
            "/usr/local/lib/python3.6/dist-packages/scipy/stats/morestats.py:1676: UserWarning: p-value may not be accurate for N > 5000.\n",
            "  warnings.warn(\"p-value may not be accurate for N > 5000.\")\n"
          ],
          "name": "stderr"
        }
      ]
    },
    {
      "cell_type": "markdown",
      "metadata": {
        "id": "1Om8bqfei5DG"
      },
      "source": [
        "> Above we test the assumption of normality using the stats.shapiro(). The first value in the tuple is the W test statistic, and the second value is the p-value and again we see that it violates this assumption this may be explained by the presence of outliers in the data or other factors. For this case let's test another variable: Household size.\r\n"
      ]
    },
    {
      "cell_type": "code",
      "metadata": {
        "colab": {
          "base_uri": "https://localhost:8080/"
        },
        "id": "O5ZWFKmDosnp",
        "outputId": "cacc7d70-8f46-46e0-9a07-09bf7bc0b13c"
      },
      "source": [
        "#Household size and Has a bank account\r\n",
        "#subsetting dfs by account\r\n",
        "has_ac = fin[(fin['has_a_bank_account'] == 'Yes')]\r\n",
        "no_ac = fin[(fin['has_a_bank_account'] == 'No')]\r\n",
        "\r\n",
        "stats.levene(has_ac['household_size'], no_ac['household_size'])\r\n"
      ],
      "execution_count": 277,
      "outputs": [
        {
          "output_type": "execute_result",
          "data": {
            "text/plain": [
              "LeveneResult(statistic=6.007072571214112, pvalue=0.014256927603023902)"
            ]
          },
          "metadata": {
            "tags": []
          },
          "execution_count": 277
        }
      ]
    },
    {
      "cell_type": "markdown",
      "metadata": {
        "id": "KeNxc3h-p7TP"
      },
      "source": [
        ">In the above cell we see that the variable household size violates the t-test but it is way better than age, therefore we try the Welch's t-test"
      ]
    },
    {
      "cell_type": "code",
      "metadata": {
        "colab": {
          "base_uri": "https://localhost:8080/"
        },
        "id": "9Xdp633vpqtF",
        "outputId": "01112736-2f75-40ac-e086-f9686d390e0a"
      },
      "source": [
        "#performing the Welch's t-test\r\n",
        "print(stats.shapiro(has_ac['household_size']))\r\n",
        "print(stats.shapiro(no_ac['household_size']))"
      ],
      "execution_count": 278,
      "outputs": [
        {
          "output_type": "stream",
          "text": [
            "(0.9136533737182617, 3.327047732686919e-38)\n",
            "(0.9179313778877258, 0.0)\n"
          ],
          "name": "stdout"
        },
        {
          "output_type": "stream",
          "text": [
            "/usr/local/lib/python3.6/dist-packages/scipy/stats/morestats.py:1676: UserWarning: p-value may not be accurate for N > 5000.\n",
            "  warnings.warn(\"p-value may not be accurate for N > 5000.\")\n"
          ],
          "name": "stderr"
        }
      ]
    },
    {
      "cell_type": "markdown",
      "metadata": {
        "id": "abBhlaw8qRtI"
      },
      "source": [
        ">Again we see that it violates this assumption this may be explained by the presence of outliers in the data or other factors.\r\n"
      ]
    },
    {
      "cell_type": "markdown",
      "metadata": {
        "id": "i07BtuLhorcg"
      },
      "source": [
        ">Ideally we would have to deal with possible factors, find another method or re-think this approach. But for this case we shall move forward."
      ]
    },
    {
      "cell_type": "markdown",
      "metadata": {
        "id": "uP5SCu8cqlo_"
      },
      "source": [
        "###Multivariate Analysis"
      ]
    },
    {
      "cell_type": "markdown",
      "metadata": {
        "id": "RKtQnkuKDTJh"
      },
      "source": [
        ">Principal Component Analysis (PCA) is used to carry out the analysis because we already have the categories (Yes and No for those who have a bank account) unlike Factor Analysis where we want to infer the caategories from possible groupings realized in the analysis."
      ]
    },
    {
      "cell_type": "code",
      "metadata": {
        "id": "59tpV0WDfqT3"
      },
      "source": [
        "# Mutlivariate summaries and recording our observations\r\n",
        "#\r\n",
        "#Principal Component analysis\r\n",
        "# The first preprocessing step is to divide the dataset into a feature set and corresponding labels. \r\n",
        "# The following script performs this task. The script below stores the feature sets into the X variable \r\n",
        "# and the series of corresponding labels in to the y variable.\r\n",
        "\r\n",
        "#setting the variables and label\r\n",
        "X = fin.select_dtypes(np.number)\r\n",
        "y = fin['has_a_bank_account']\r\n"
      ],
      "execution_count": 400,
      "outputs": []
    },
    {
      "cell_type": "code",
      "metadata": {
        "id": "At8G-9LY5clo"
      },
      "source": [
        "# Splitting the dataset into the Training set and Test set\r\n",
        "from sklearn.model_selection import train_test_split\r\n",
        "\r\n",
        "X_train, X_test, y_train, y_test = train_test_split(X, y, test_size=0.2, random_state=0)"
      ],
      "execution_count": 385,
      "outputs": []
    },
    {
      "cell_type": "code",
      "metadata": {
        "id": "0jcRljNNx2zl"
      },
      "source": [
        "# Normalization as PCA performs best with a normalized feature set. \r\n",
        "\r\n",
        "from sklearn.preprocessing import StandardScaler\r\n",
        "\r\n",
        "sc = StandardScaler()\r\n",
        "X_train = sc.fit_transform(X_train)\r\n",
        "X_test = sc.transform(X_test)"
      ],
      "execution_count": 386,
      "outputs": []
    },
    {
      "cell_type": "code",
      "metadata": {
        "id": "VGLWMBdT5i_h"
      },
      "source": [
        "# Applying PCA\r\n",
        "from sklearn.decomposition import PCA\r\n",
        "\r\n",
        "pca = PCA()\r\n",
        "X_train = pca.fit_transform(X_train)\r\n",
        "X_test = pca.transform(X_test)"
      ],
      "execution_count": 387,
      "outputs": []
    },
    {
      "cell_type": "code",
      "metadata": {
        "colab": {
          "base_uri": "https://localhost:8080/"
        },
        "id": "v1EcGD2_5l9W",
        "outputId": "5df8d533-32c8-477d-fc68-1ad5b0160115"
      },
      "source": [
        "# Explained Variance Ratio\r\n",
        "# The PCA class contains explained_variance_ratio_ which returns the variance caused by each of the principal components. \r\n",
        "\r\n",
        "explained_variance = pca.explained_variance_ratio_\r\n",
        "\r\n",
        "# The explained_variance variable is shown in the array which contains variance ratios for each principal component. \r\n",
        "# It can be seen that first principal component is responsible for 37.35% variance. \r\n",
        "#Second principal component causes 33.74% variance in the dataset. \r\n",
        "# Collectively we can say that (37.35 + 33.74) 71.09% percent of the classification information contained \r\n",
        "# in the feature set is captured by the first two principal components.\r\n",
        "explained_variance"
      ],
      "execution_count": 388,
      "outputs": [
        {
          "output_type": "execute_result",
          "data": {
            "text/plain": [
              "array([0.37359639, 0.33744811, 0.2889555 ])"
            ]
          },
          "metadata": {
            "tags": []
          },
          "execution_count": 388
        }
      ]
    },
    {
      "cell_type": "code",
      "metadata": {
        "id": "0lR6gvSb5pkM"
      },
      "source": [
        "#Using 1 Principal Component\r\n",
        "# 1 principal component to train our algorithm. To do so, execute the following code:\r\n",
        "# \r\n",
        "from sklearn.decomposition import PCA\r\n",
        "\r\n",
        "pca = PCA(n_components=1)\r\n",
        "X_train = pca.fit_transform(X_train)\r\n",
        "X_test = pca.transform(X_test)"
      ],
      "execution_count": 389,
      "outputs": []
    },
    {
      "cell_type": "code",
      "metadata": {
        "id": "umD33eo05yLt"
      },
      "source": [
        "#Training and Making Predictions\r\n",
        "# In this case we'll use random forest classification for making the predictions.\r\n",
        "# \r\n",
        "from sklearn.ensemble import RandomForestClassifier\r\n",
        "\r\n",
        "classifier = RandomForestClassifier(max_depth=2, random_state=0)\r\n",
        "classifier.fit(X_train, y_train)\r\n",
        "\r\n",
        "# Predicting the Test set results\r\n",
        "y_pred = classifier.predict(X_test)\r\n"
      ],
      "execution_count": 390,
      "outputs": []
    },
    {
      "cell_type": "code",
      "metadata": {
        "colab": {
          "base_uri": "https://localhost:8080/"
        },
        "id": "aRcuu5xy53mb",
        "outputId": "82835718-c634-4c99-be0a-09f4ecdc4823"
      },
      "source": [
        "#Performance Evaluation\r\n",
        "from sklearn.metrics import confusion_matrix\r\n",
        "from sklearn.metrics import accuracy_score\r\n",
        "\r\n",
        "cm = confusion_matrix(y_test, y_pred)\r\n",
        "print(cm)\r\n",
        "print('Accuracy' , accuracy_score(y_test, y_pred))\r\n",
        "\r\n",
        "# Noting that from the output that with only one feature, \r\n",
        "# the random forest algorithm is able to correctly predict 4008 out of 4669 instances, \r\n",
        "# resulting in 85.84% accuracy."
      ],
      "execution_count": 391,
      "outputs": [
        {
          "output_type": "stream",
          "text": [
            "[[4008    0]\n",
            " [ 661    0]]\n",
            "Accuracy 0.8584279288926965\n"
          ],
          "name": "stdout"
        }
      ]
    },
    {
      "cell_type": "markdown",
      "metadata": {
        "id": "L1ErBZtTC1x4"
      },
      "source": [
        "> Since we only have 2 classes (for the label: Has a bank account) it is not possible to carry out a PCA with 2 or more components."
      ]
    },
    {
      "cell_type": "markdown",
      "metadata": {
        "id": "lP7p9v2KGYNV"
      },
      "source": [
        ">Discriminant analysis is also a type statistical analysis that can be used to analyze the dataset because the dependent variable is categorical and the independent variable is continuous (Theoretically it may be better suited for this case).\r\n",
        " "
      ]
    },
    {
      "cell_type": "code",
      "metadata": {
        "id": "xX-Zdx3wFnbc"
      },
      "source": [
        "# Mutlivariate summaries and recording our observations\r\n",
        "#Linear Discriminant analysis\r\n",
        "# The script below stores the feature sets into the X variable \r\n",
        "# and the series of corresponding labels in to the y variable.\r\n",
        "\r\n",
        "#setting the variables and label\r\n",
        "\r\n",
        "X = fin.select_dtypes(np.number)\r\n",
        "y = fin['has_a_bank_account']\r\n"
      ],
      "execution_count": 393,
      "outputs": []
    },
    {
      "cell_type": "code",
      "metadata": {
        "id": "lSuILZyjFeJl"
      },
      "source": [
        "# Splitting the dataset into the Training set and Test set\r\n",
        "#\r\n",
        "from sklearn.model_selection import train_test_split\r\n",
        "X_train, X_test, y_train, y_test = train_test_split(X, y, test_size=0.2, random_state=0)"
      ],
      "execution_count": 394,
      "outputs": []
    },
    {
      "cell_type": "code",
      "metadata": {
        "id": "KyoAlxJfE7bH"
      },
      "source": [
        "# Normalization as PCA performs best with a normalized feature set. \r\n",
        "from sklearn.preprocessing import StandardScaler\r\n",
        "\r\n",
        "sc = StandardScaler()\r\n",
        "X_train = sc.fit_transform(X_train)\r\n",
        "X_test = sc.transform(X_test)"
      ],
      "execution_count": 395,
      "outputs": []
    },
    {
      "cell_type": "code",
      "metadata": {
        "id": "woOKJ6khE9Bz"
      },
      "source": [
        "# Peforming LDA\r\n",
        "#\r\n",
        "from sklearn.discriminant_analysis import LinearDiscriminantAnalysis as LDA\r\n",
        "lda = LDA(n_components=1)\r\n",
        "X_train = lda.fit_transform(X_train, y_train)\r\n",
        "X_test = lda.transform(X_test)\r\n",
        "\r\n",
        "# Notice, in case of LDA, the transform method takes two parameters: the X_train and the y_train. \r\n",
        "# This reflects the fact that LDA takes the output class labels into account while selecting the linear discriminants."
      ],
      "execution_count": 396,
      "outputs": []
    },
    {
      "cell_type": "code",
      "metadata": {
        "id": "vZjlnGNKFB1F"
      },
      "source": [
        "#Training and Making Predictions\r\n",
        "# We will use the random forest classifier to evaluate the performance of a PCA-reduced algorithms as shown\r\n",
        "# \r\n",
        "\r\n",
        "from sklearn.ensemble import RandomForestClassifier\r\n",
        "\r\n",
        "classifier = RandomForestClassifier(max_depth=2, random_state=0)\r\n",
        "classifier.fit(X_train, y_train)\r\n",
        "y_pred = classifier.predict(X_test)"
      ],
      "execution_count": 397,
      "outputs": []
    },
    {
      "cell_type": "code",
      "metadata": {
        "colab": {
          "base_uri": "https://localhost:8080/"
        },
        "id": "HI2ntTOLFGRs",
        "outputId": "f4aaca53-bc14-4fa1-b6c7-bcf3e020ae46"
      },
      "source": [
        "# Evaluating the Performance\r\n",
        "# \r\n",
        "\r\n",
        "from sklearn.metrics import confusion_matrix\r\n",
        "from sklearn.metrics import accuracy_score\r\n",
        "\r\n",
        "cm = confusion_matrix(y_test, y_pred)\r\n",
        "print(cm)\r\n",
        "print('Accuracy' + str(accuracy_score(y_test, y_pred)))\r\n",
        "\r\n",
        "# We can see that with one linear discriminant, the algorithm achieved the same level of accuracy as the\r\n",
        "# one achieved with one principal component."
      ],
      "execution_count": 398,
      "outputs": [
        {
          "output_type": "stream",
          "text": [
            "[[4008    0]\n",
            " [ 661    0]]\n",
            "Accuracy0.8584279288926965\n"
          ],
          "name": "stdout"
        }
      ]
    },
    {
      "cell_type": "markdown",
      "metadata": {
        "id": "MfuNBy-7H2hB"
      },
      "source": [
        "> Since we only have 2 classes(for the label: Has a bank account) it is not possible to carry out a LDA with 2 or more components."
      ]
    },
    {
      "cell_type": "markdown",
      "metadata": {
        "id": "vTbdjSrhVIiT"
      },
      "source": [
        "## 7. Implementing the Solution"
      ]
    },
    {
      "cell_type": "markdown",
      "metadata": {
        "id": "klDxabK6IHAH"
      },
      "source": [
        ">>From the above experimentation we achieved an acceptable level of accuracy while significantly reducing the number of features in the dataset. We saw that accuracy achieved with only 1 principal or 1 linear discriminant component is about 85%. From the results we can see that using one component we can loosely predict with an accuracy of 85% whether an individual has a bank account or not within East Africa.\r\n",
        "Ideally we would take a number of principal components that contribute to significant variance and ignore those with diminishing variance returns. It is important to note that this dataset did not present an adequate number of factors/components to carry out PCA or LDA without violating some of the assumptions these tests are based on e.g normality. **The above conclusion is to be taken with extreme caution** as even if the accuracy is present, the component does not explain a significant portion of the variance(it failed the t-test with a p-value way less than 0.05 meaning that the variance was not homogeneous).\r\n",
        "It is then adviced to either increase the number of factors observed (numerical values) which may directly influence the dependent variable and/or explain the variability in the current data or alternatively another method that uses the categorical data (utilising dummies) within the current dataset to calculate correlation should thus be used e.g. Multiple Linear Regression."
      ]
    },
    {
      "cell_type": "markdown",
      "metadata": {
        "id": "lQ2G4ZPDVOXE"
      },
      "source": [
        "## 8. Challenging the solution"
      ]
    },
    {
      "cell_type": "markdown",
      "metadata": {
        "id": "jWVGKGuiYMWg"
      },
      "source": [
        "> We can also try and carry out hypothesis testing if we possible, the statistic of 13.9% access has been given it may be worth looking into if it is possible to provide an alternative hypothesis e.g. The statistic is > than that, then set out to try and accept or reject the null hypothesis.\n",
        "\n",
        "\n",
        "\n",
        "\n"
      ]
    },
    {
      "cell_type": "markdown",
      "metadata": {
        "id": "xrmHVMVsVS--"
      },
      "source": [
        "## 9. Follow up questions"
      ]
    },
    {
      "cell_type": "markdown",
      "metadata": {
        "id": "pth2qSWhuBIy"
      },
      "source": [
        "> At this point, we can refine our question or collect new data, all in an iterative process to get at the truth.\n",
        "\n"
      ]
    },
    {
      "cell_type": "markdown",
      "metadata": {
        "id": "HPQviDmNtta8"
      },
      "source": [
        "### a). Did we have the right data?"
      ]
    },
    {
      "cell_type": "markdown",
      "metadata": {
        "id": "xoYFvCj1dl4l"
      },
      "source": [
        ">It is prudent to note that the data was not wrong but very limited."
      ]
    },
    {
      "cell_type": "markdown",
      "metadata": {
        "id": "qjFHK1CKty7o"
      },
      "source": [
        "### b). Do we need other data to answer our question?"
      ]
    },
    {
      "cell_type": "markdown",
      "metadata": {
        "id": "0Ki3b1k1d7f-"
      },
      "source": [
        ">It is evident after trying to analyse the data is very limited in terms of possible factors and would be better if all the data was from the same year since in our case, different countries had different dated data which greatly influences the accuracy of any deductions made from it."
      ]
    },
    {
      "cell_type": "markdown",
      "metadata": {
        "id": "HSsicSdvt4Zs"
      },
      "source": [
        "### c). Did we have the right question?"
      ]
    },
    {
      "cell_type": "markdown",
      "metadata": {
        "id": "TzXPJI1Menkn"
      },
      "source": [
        ">I believe given the reality on the ground, that there is a relationship between age and access to a bank account due to the history of our development."
      ]
    }
  ]
}